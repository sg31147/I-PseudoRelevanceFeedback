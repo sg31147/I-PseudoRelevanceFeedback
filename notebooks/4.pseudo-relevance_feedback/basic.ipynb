{
 "cells": [
  {
   "cell_type": "code",
   "execution_count": 1,
   "metadata": {},
   "outputs": [],
   "source": [
    "import os\n",
    "os.chdir('../../')"
   ]
  },
  {
   "cell_type": "code",
   "execution_count": 2,
   "metadata": {},
   "outputs": [],
   "source": [
    "# import pandas as pd\n",
    "# predictions_test = pd.read_feather('./experiments/8fdtxcm4'+'/predictions_test.feather')\n",
    "# id=predictions_test.iloc[200:201,-2:]['_id'].values[0]\n",
    "# target=predictions_test.iloc[200:201,-2:]\n",
    "# discharge = pd.read_feather('./dataset/mimiciv/note/discharge.feather')\n",
    "# discharge[discharge['hadm_id']==id]"
   ]
  },
  {
   "cell_type": "code",
   "execution_count": 3,
   "metadata": {},
   "outputs": [
    {
     "data": {
      "text/plain": [
       "torch.Size([2, 3])"
      ]
     },
     "execution_count": 3,
     "metadata": {},
     "output_type": "execute_result"
    }
   ],
   "source": [
    "import torch\n",
    "\n",
    "# Database tensor (14x3)\n",
    "db = torch.tensor([[0.3124, 0.7484, 0.5882],\n",
    "        [0.7315, 0.7216, 0.4280],\n",
    "        [0.8297, 0.5152, 0.5855],\n",
    "        [0.7019, 0.1183, 0.1639],\n",
    "        [0.4908, 0.4098, 0.5747],\n",
    "        [0.5028, 0.3644, 0.3118],\n",
    "        [0.8006, 0.4837, 0.6474],\n",
    "        [0.2512, 0.3838, 0.3375],\n",
    "        [0.2173, 0.1948, 0.8814],\n",
    "        [0.7787, 0.7503, 0.3902],\n",
    "        [-0.7949, 0.7372, -0.7418],\n",
    "        [0.7702, 0.7498, 0.3535],\n",
    "        [0.3216, 0.1167, 0.6975],\n",
    "        [0.3265, 0.5124, 0.6395]])\n",
    "\n",
    "# Query Vectors (2x3)\n",
    "qv = torch.tensor([[0.7461, 0.6752, 0.7194],\n",
    "                   [0.7702, 0.7498, 0.3535]])\n",
    "qv.shape"
   ]
  },
  {
   "cell_type": "code",
   "execution_count": 4,
   "metadata": {},
   "outputs": [
    {
     "data": {
      "text/plain": [
       "tensor([[0.7290, 0.5365, 0.6373],\n",
       "        [0.6428, 0.2049, 0.6582]])"
      ]
     },
     "execution_count": 4,
     "metadata": {},
     "output_type": "execute_result"
    }
   ],
   "source": [
    "import torch\n",
    "\n",
    "tensor_data = torch.tensor([[[0.7949, 0.7372, 0.7418],\n",
    "                             [0.4908, 0.4098, 0.5747],\n",
    "                             [0.8006, 0.4837, 0.6474],\n",
    "                             [0.8297, 0.5152, 0.5855],\n",
    "                             [0.0000, 0.0000, 0.0000]],\n",
    "\n",
    "                            [[0.4908, 0.4098, 0.5747],\n",
    "                             [0.7949, 0.0000, 0.7418],\n",
    "                             [0.0000, 0.0000, 0.0000],\n",
    "                             [0.0000, 0.0000, 0.0000],\n",
    "                             [0.0000, 0.0000, 0.0000]]])\n",
    "\n",
    "# Step 1: Remove trailing zero rows\n",
    "def remove_trailing_zeros(tensor):\n",
    "    mask = ~(tensor == 0).all(dim=-1)  # Identify non-zero rows\n",
    "    return [t[mask[i]] for i, t in enumerate(tensor)]\n",
    "\n",
    "trimmed_tensors = remove_trailing_zeros(tensor_data)\n",
    "\n",
    "# Step 2: Compute mean along dim=0\n",
    "relevance_doc = torch.stack([t.mean(dim=0, keepdim=True) for t in trimmed_tensors])\n",
    "\n",
    "relevance_doc.squeeze(1)\n"
   ]
  },
  {
   "cell_type": "code",
   "execution_count": 5,
   "metadata": {},
   "outputs": [
    {
     "data": {
      "text/plain": [
       "(tensor([[0.5750, 0.4314, 0.4914],\n",
       "         [0.7226, 0.6203, 0.4138]]),\n",
       " tensor([0., 0., 0.]))"
      ]
     },
     "execution_count": 5,
     "metadata": {},
     "output_type": "execute_result"
    }
   ],
   "source": [
    "import torch\n",
    "\n",
    "\n",
    "# Compute cosine similarity for each query (2x14)\n",
    "cosine_similarity = torch.nn.functional.cosine_similarity(db.unsqueeze(0), qv.unsqueeze(1), dim=2)\n",
    "\n",
    "# Get top-k indices per query (2x5)\n",
    "k = 5\n",
    "topk_values, topk_indices = torch.topk(cosine_similarity, k, dim=1)\n",
    "\n",
    "# Compute median similarity score for thresholding\n",
    "median_values = torch.median(topk_values, dim=1, keepdim=True).values  # (2x1)\n",
    "\n",
    "consine_threshold = 0.000\n",
    "# Masks: Above median -> Relevant, Below median -> Non-relevant\n",
    "relevant_mask = topk_values >= consine_threshold  # (2x5)\n",
    "non_relevant_mask = topk_values < consine_threshold  # (2x5)\n",
    "\n",
    "# Extract relevant and non-relevant indices\n",
    "relevant_indices = topk_indices * relevant_mask  # Apply mask\n",
    "non_relevant_indices = topk_indices * non_relevant_mask  # Apply mask\n",
    "\n",
    "# Remove zero indices (needed when applying mask)\n",
    "relevant_indices = relevant_indices[relevant_mask].reshape(qv.shape[0], -1)\n",
    "non_relevant_indices = non_relevant_indices[non_relevant_mask].reshape(qv.shape[0], -1)\n",
    "\n",
    "# Extract relevant and non-relevant vectors (2x(k/2)x3)\n",
    "relevant_vecs = db[relevant_indices]\n",
    "non_relevant_vecs = db[non_relevant_indices]\n",
    "\n",
    "# Compute centroids (2x3)\n",
    "if relevant_vecs.numel() > 0:  # Check if not empty\n",
    "    centroid_relevant = relevant_vecs.mean(dim=1)\n",
    "else:\n",
    "    centroid_relevant = torch.zeros_like(qv[0])  # Match query vector size\n",
    "\n",
    "if non_relevant_vecs.numel() > 0:  # Check if not empty\n",
    "    centroid_non_relevant = non_relevant_vecs.mean(dim=1)\n",
    "else:\n",
    "    centroid_non_relevant = torch.zeros_like(qv[0])  # Match query vector size\n",
    "centroid_relevant,centroid_non_relevant\n"
   ]
  },
  {
   "cell_type": "code",
   "execution_count": 6,
   "metadata": {},
   "outputs": [
    {
     "data": {
      "text/plain": [
       "tensor([[0.8036, 0.7183, 0.7685],\n",
       "        [0.8398, 0.8145, 0.3906]])"
      ]
     },
     "execution_count": 6,
     "metadata": {},
     "output_type": "execute_result"
    }
   ],
   "source": [
    "from src.utils.fun_retrieval import pseudo_relevance_feedback\n",
    "a = pseudo_relevance_feedback(db,qv,consine_threshold=0.96)\n",
    "a"
   ]
  }
 ],
 "metadata": {
  "kernelspec": {
   "display_name": "myenv",
   "language": "python",
   "name": "python3"
  },
  "language_info": {
   "codemirror_mode": {
    "name": "ipython",
    "version": 3
   },
   "file_extension": ".py",
   "mimetype": "text/x-python",
   "name": "python",
   "nbconvert_exporter": "python",
   "pygments_lexer": "ipython3",
   "version": "3.10.12"
  }
 },
 "nbformat": 4,
 "nbformat_minor": 2
}
