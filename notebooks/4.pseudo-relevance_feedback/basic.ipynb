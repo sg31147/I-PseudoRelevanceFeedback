{
 "cells": [
  {
   "cell_type": "code",
   "execution_count": 1,
   "metadata": {},
   "outputs": [],
   "source": [
    "import os\n",
    "os.chdir('../../')"
   ]
  },
  {
   "cell_type": "code",
   "execution_count": 2,
   "metadata": {},
   "outputs": [],
   "source": [
    "import pandas as pd\n",
    "t1 = pd.read_feather('./experiments/8fdtxcm4'+'/predictions_test.feather')\n",
    "t2 = pd.read_feather('./dataset/mimiciv/note/discharge.feather')\n",
    "\n",
    "# Perform the join\n",
    "merged_table = t1.merge(t2, left_on='_id', right_on='hadm_id', how='inner')\n",
    "\n",
    "# Display the merged table\n",
    "merged_table=merged_table[['_id','text','target']]"
   ]
  },
  {
   "cell_type": "code",
   "execution_count": 3,
   "metadata": {},
   "outputs": [
    {
     "data": {
      "application/vnd.microsoft.datawrangler.viewer.v0+json": {
       "columns": [
        {
         "name": "index",
         "rawType": "object",
         "type": "string"
        },
        {
         "name": "200",
         "rawType": "object",
         "type": "unknown"
        }
       ],
       "ref": "569dc030-2100-4741-affe-b11502306475",
       "rows": [
        [
         "_id",
         "27703599"
        ],
        [
         "text",
         " \nName:  ___                   Unit No:   ___\n \nAdmission Date:  ___              Discharge Date:   ___\n \nDate of Birth:  ___             Sex:   F\n \nService: PLASTIC\n \nAllergies: \nArava / ceftriaxone / ciprofloxacin / Cymbalta / Enbrel / \nmethotrexate / Penicillins / shellfish derived / Sulfa \n(Sulfonamide Antibiotics) / aztreonam\n \nAttending: ___.\n \nChief Complaint:\nRight ___ finger pain\n \nMajor Surgical or Invasive Procedure:\nBedside I&D on ___ by Dr. ___\n\n \n___ of Present Illness:\n___ female presents with h/o Right ___ digit neuroma now POD8\nfrom neuroma excision who presents from clinic with c/f surgical\nsite infection. Reports over last 48 hours has noticed increased\npain and redness around the incision. Reports increased\ndifficulty bending and moving the finger. Reports felt feverish\nthough did not check temperature. Reports went to clinic today\nand was sent in for further evaluation and IV abx. \nDenies drainage. Reports the erythema is now advancing \nproximally\nup the lateral aspect of the hand.  She denies chills, nausea,\nvomiting, abdominal pain, chest pain, SOB. \n \nPast Medical History:\nPAST MEDICAL HISTORY:  \n- seronegative arthritis - previously on enbrel then humira \nwhich\nwas stopped in ___ due to concern for infections\n- asthma\n- obesity\n- s/p left hip infection (___) - treated with 4 weeks\nantibiotics, did not involve joint space per patient\n- necrotizing fasciitis of the chest wall in ___, s/p extended\nhospitalization and multiple debridements, ?___ strep\n- ?culture negative endocarditis concurrent with nec. fasc. in\n___\n\nPAST SURGICAL HISTORY:\n- multiple debridements for chest wall nec. fasc. (___)\n \nSocial History:\n___\nFamily History:\nNo history of recurrent infections\n \nPhysical Exam:\nNonlabored on breathing on RA\nDetailed examination of the RUE:\nminimal erythema of the R ___ finger and ulnar aspect of palm, \nincision are without drainage\n \nPertinent Results:\n___ 04:53AM BLOOD WBC-4.3 RBC-3.52* Hgb-10.2* Hct-31.5* \nMCV-90 MCH-29.0 MCHC-32.4 RDW-13.0 RDWSD-42.7 Plt ___\n \nBrief Hospital Course:\nThe patient was seen and evaluated by the hand surgery team in \nthe emergency department and was found to have Right ___ finger \ninfection. She was admitted to the hand surgery service and was \ninitially treated with IV vancomycin and cefepime and \ntransitioned to oral clindamycin on discharge. On ___, a beside \nI&D was performed and she tolerated the procedure well. No \nobvious pus.\n\nAt the time of discharge, she was tolerating a PO diet, pain was \nwell controlled. She is in agreement with the discharge.\n \nDischarge Medications:\n1.  Acetaminophen 650 mg PO 5X/DAY \nRX *acetaminophen 325 mg 2 capsule(s) by mouth 5 times a day \nDisp #*120 Capsule Refills:*0 \n2.  Clindamycin 300 mg PO Q6H Duration: 14 Days \nRX *clindamycin HCl 300 mg 1 capsule(s) by mouth every 6 hours \nDisp #*56 Capsule Refills:*0 \n3.  HYDROmorphone (Dilaudid) 2 mg PO Q4H:PRN Pain - Moderate \nRX *hydromorphone [Dilaudid] 2 mg 1 tablet(s) by mouth every 4 \nhours Disp #*30 Tablet Refills:*0 \n4.  ALPRAZolam 0.5 mg PO BID:PRN anxiety  \n5.  Hydroxychloroquine Sulfate 200 mg PO DAILY  \n6.  Montelukast 10 mg PO DAILY  \n7.  Venlafaxine XR 75 mg PO DAILY  \n8.  Xeljanz (tofacitinib) 5 mg oral BID  \n\n \nDischarge Disposition:\nHome\n \nDischarge Diagnosis:\nRight hand ___ finger infection\n\n \nDischarge Condition:\nStable\n\n \nDischarge Instructions:\nWound care:\nKeep the wound clean and dry\nHydrogen peroxide/saline soaks twice daily for 20 minutes until \n___\n\nMedications:\nResume your home medications\nTake narcotics only for severe pain\nTake clindamycin for 14 days for your finger infection\n\nWarning signs:\nIncreasing pain, swelling or discharge of your finger\nFevers and chills\n \nFollowup Instructions:\n___\n"
        ],
        [
         "target",
         "['Y83.8' 'T81.4XXA' 'Y92.9' 'J45.909' '02HV33Z' 'E66.9' 'M19.90' 'Z68.33'\n 'L03.011']"
        ]
       ],
       "shape": {
        "columns": 1,
        "rows": 3
       }
      },
      "text/plain": [
       "_id                                                27703599\n",
       "text       \\nName:  ___                   Unit No:   ___...\n",
       "target    [Y83.8, T81.4XXA, Y92.9, J45.909, 02HV33Z, E66...\n",
       "Name: 200, dtype: object"
      ]
     },
     "execution_count": 3,
     "metadata": {},
     "output_type": "execute_result"
    }
   ],
   "source": [
    "merged_table.iloc[200]"
   ]
  },
  {
   "cell_type": "code",
   "execution_count": null,
   "metadata": {},
   "outputs": [],
   "source": [
    "# สมมติข้อความคุณอยู่ในตัวแปรนี้\n",
    "raw_target = merged_table.iloc[200]['target']\n",
    "formatted_target = ', '.join(f'\"{code}\"' for code in raw_target)\n",
    "# สมมติข้อความคุณอยู่ในตัวแปรนี้\n",
    "raw_text = merged_table.iloc[200]['text']\n",
    "\n",
    "# แปลงเป็นบรรทัดใหม่ พร้อมลบช่องว่างหน้าหลังที่ไม่จำเป็น\n",
    "formatted_text = raw_text.replace('\\\\n', '\\n').strip()"
   ]
  },
  {
   "cell_type": "code",
   "execution_count": null,
   "metadata": {},
   "outputs": [],
   "source": [
    "import pandas as pd\n",
    "predictions_test = pd.read_feather('./experiments/8fdtxcm4'+'/predictions_test.feather')\n",
    "id=predictions_test.iloc[200:201,-2:]['_id'].values[0]\n",
    "target=predictions_test.iloc[200:201,-2:]\n",
    "discharge = pd.read_feather('./dataset/mimiciv/note/discharge.feather')\n",
    "discharge[discharge['hadm_id']==id]"
   ]
  },
  {
   "cell_type": "code",
   "execution_count": null,
   "metadata": {},
   "outputs": [],
   "source": [
    "import torch\n",
    "\n",
    "# Database tensor (14x3)\n",
    "db = torch.tensor([[0.3124, 0.7484, 0.5882],\n",
    "        [0.7315, 0.7216, 0.4280],\n",
    "        [0.8297, 0.5152, 0.5855],\n",
    "        [0.7019, 0.1183, 0.1639],\n",
    "        [0.4908, 0.4098, 0.5747],\n",
    "        [0.5028, 0.3644, 0.3118],\n",
    "        [0.8006, 0.4837, 0.6474],\n",
    "        [0.2512, 0.3838, 0.3375],\n",
    "        [0.2173, 0.1948, 0.8814],\n",
    "        [0.7787, 0.7503, 0.3902],\n",
    "        [-0.7949, 0.7372, -0.7418],\n",
    "        [0.7702, 0.7498, 0.3535],\n",
    "        [0.3216, 0.1167, 0.6975],\n",
    "        [0.3265, 0.5124, 0.6395]])\n",
    "\n",
    "# Query Vectors (2x3)\n",
    "qv = torch.tensor([[0.7461, 0.6752, 0.7194],\n",
    "                   [0.7702, 0.7498, 0.3535]])\n",
    "qv.shape"
   ]
  },
  {
   "cell_type": "code",
   "execution_count": null,
   "metadata": {},
   "outputs": [],
   "source": [
    "import torch\n",
    "\n",
    "tensor_data = torch.tensor([[[0.7949, 0.7372, 0.7418],\n",
    "                             [0.4908, 0.4098, 0.5747],\n",
    "                             [0.8006, 0.4837, 0.6474],\n",
    "                             [0.8297, 0.5152, 0.5855],\n",
    "                             [0.0000, 0.0000, 0.0000]],\n",
    "\n",
    "                            [[0.4908, 0.4098, 0.5747],\n",
    "                             [0.7949, 0.0000, 0.7418],\n",
    "                             [0.0000, 0.0000, 0.0000],\n",
    "                             [0.0000, 0.0000, 0.0000],\n",
    "                             [0.0000, 0.0000, 0.0000]]])\n",
    "\n",
    "# Step 1: Remove trailing zero rows\n",
    "def remove_trailing_zeros(tensor):\n",
    "    mask = ~(tensor == 0).all(dim=-1)  # Identify non-zero rows\n",
    "    return [t[mask[i]] for i, t in enumerate(tensor)]\n",
    "\n",
    "trimmed_tensors = remove_trailing_zeros(tensor_data)\n",
    "\n",
    "# Step 2: Compute mean along dim=0\n",
    "relevance_doc = torch.stack([t.mean(dim=0, keepdim=True) for t in trimmed_tensors])\n",
    "\n",
    "relevance_doc.squeeze(1)\n"
   ]
  },
  {
   "cell_type": "code",
   "execution_count": null,
   "metadata": {},
   "outputs": [],
   "source": [
    "import torch\n",
    "\n",
    "\n",
    "# Compute cosine similarity for each query (2x14)\n",
    "cosine_similarity = torch.nn.functional.cosine_similarity(db.unsqueeze(0), qv.unsqueeze(1), dim=2)\n",
    "\n",
    "# Get top-k indices per query (2x5)\n",
    "k = 5\n",
    "topk_values, topk_indices = torch.topk(cosine_similarity, k, dim=1)\n",
    "\n",
    "# Compute median similarity score for thresholding\n",
    "median_values = torch.median(topk_values, dim=1, keepdim=True).values  # (2x1)\n",
    "\n",
    "consine_threshold = 0.000\n",
    "# Masks: Above median -> Relevant, Below median -> Non-relevant\n",
    "relevant_mask = topk_values >= consine_threshold  # (2x5)\n",
    "non_relevant_mask = topk_values < consine_threshold  # (2x5)\n",
    "\n",
    "# Extract relevant and non-relevant indices\n",
    "relevant_indices = topk_indices * relevant_mask  # Apply mask\n",
    "non_relevant_indices = topk_indices * non_relevant_mask  # Apply mask\n",
    "\n",
    "# Remove zero indices (needed when applying mask)\n",
    "relevant_indices = relevant_indices[relevant_mask].reshape(qv.shape[0], -1)\n",
    "non_relevant_indices = non_relevant_indices[non_relevant_mask].reshape(qv.shape[0], -1)\n",
    "\n",
    "# Extract relevant and non-relevant vectors (2x(k/2)x3)\n",
    "relevant_vecs = db[relevant_indices]\n",
    "non_relevant_vecs = db[non_relevant_indices]\n",
    "\n",
    "# Compute centroids (2x3)\n",
    "if relevant_vecs.numel() > 0:  # Check if not empty\n",
    "    centroid_relevant = relevant_vecs.mean(dim=1)\n",
    "else:\n",
    "    centroid_relevant = torch.zeros_like(qv[0])  # Match query vector size\n",
    "\n",
    "if non_relevant_vecs.numel() > 0:  # Check if not empty\n",
    "    centroid_non_relevant = non_relevant_vecs.mean(dim=1)\n",
    "else:\n",
    "    centroid_non_relevant = torch.zeros_like(qv[0])  # Match query vector size\n",
    "centroid_relevant,centroid_non_relevant\n"
   ]
  },
  {
   "cell_type": "code",
   "execution_count": null,
   "metadata": {},
   "outputs": [],
   "source": [
    "from src.utils.fun_retrieval import pseudo_relevance_feedback\n",
    "a = pseudo_relevance_feedback(db,qv,CosSim_Thresh=0.96)\n",
    "a"
   ]
  }
 ],
 "metadata": {
  "kernelspec": {
   "display_name": "myenv",
   "language": "python",
   "name": "python3"
  },
  "language_info": {
   "codemirror_mode": {
    "name": "ipython",
    "version": 3
   },
   "file_extension": ".py",
   "mimetype": "text/x-python",
   "name": "python",
   "nbconvert_exporter": "python",
   "pygments_lexer": "ipython3",
   "version": "3.10.12"
  }
 },
 "nbformat": 4,
 "nbformat_minor": 2
}
